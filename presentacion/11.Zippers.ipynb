{
 "cells": [
  {
   "cell_type": "markdown",
   "metadata": {
    "slideshow": {
     "slide_type": "slide"
    }
   },
   "source": [
    "##Zippers"
   ]
  },
  {
   "cell_type": "markdown",
   "metadata": {
    "slideshow": {
     "slide_type": "subslide"
    }
   },
   "source": [
    "Movimiento eficiente en estructuras"
   ]
  },
  {
   "cell_type": "code",
   "execution_count": 3,
   "metadata": {
    "collapsed": true,
    "slideshow": {
     "slide_type": "fragment"
    }
   },
   "outputs": [],
   "source": [
    "data Tree a = Empty | Node a (Tree a) (Tree a) deriving (Show)\n",
    "data Crumb a = LeftCrumb a (Tree a) | RightCrumb a (Tree a) deriving (Show)\n",
    "type Breadcrumbs a = [Crumb a]\n",
    "\n",
    "type Zipper a = (Tree a, Breadcrumbs a)"
   ]
  },
  {
   "cell_type": "code",
   "execution_count": 5,
   "metadata": {
    "collapsed": false,
    "slideshow": {
     "slide_type": "subslide"
    }
   },
   "outputs": [],
   "source": [
    "goUp :: (Tree a, Breadcrumbs a) -> (Tree a, Breadcrumbs a)\n",
    "goUp (t, LeftCrumb x r:bs) = (Node x t r, bs)\n",
    "goUp (t, RightCrumb x l:bs) = (Node x l t, bs)"
   ]
  },
  {
   "cell_type": "code",
   "execution_count": 7,
   "metadata": {
    "collapsed": true,
    "slideshow": {
     "slide_type": "fragment"
    }
   },
   "outputs": [],
   "source": [
    "goRight :: (Tree a, Breadcrumbs a) -> (Tree a, Breadcrumbs a)\n",
    "goRight (Node x l r, bs) = (r, RightCrumb x l:bs)\n",
    "\n",
    "goLeft :: (Tree a, Breadcrumbs a) -> (Tree a, Breadcrumbs a)\n",
    "goLeft (Node x l r, bs) = (l, LeftCrumb x r:bs)"
   ]
  },
  {
   "cell_type": "code",
   "execution_count": 15,
   "metadata": {
    "collapsed": false,
    "slideshow": {
     "slide_type": "slide"
    }
   },
   "outputs": [],
   "source": [
    "let tree = Node 1 (Node 2 Empty (Node 0 Empty Empty)) Empty"
   ]
  },
  {
   "cell_type": "code",
   "execution_count": 21,
   "metadata": {
    "collapsed": false,
    "slideshow": {
     "slide_type": "fragment"
    }
   },
   "outputs": [
    {
     "data": {
      "text/plain": [
       "(Node 2 Empty (Node 0 Empty Empty),[LeftCrumb 1 Empty])"
      ]
     },
     "metadata": {},
     "output_type": "display_data"
    },
    {
     "data": {
      "text/plain": [
       "(Node 0 Empty Empty,[RightCrumb 2 Empty,LeftCrumb 1 Empty])"
      ]
     },
     "metadata": {},
     "output_type": "display_data"
    },
    {
     "data": {
      "text/plain": [
       "(Node 2 Empty (Node 0 Empty Empty),[LeftCrumb 1 Empty])"
      ]
     },
     "metadata": {},
     "output_type": "display_data"
    }
   ],
   "source": [
    "goLeft (tree, [])\n",
    "goRight $ goLeft (tree, [])\n",
    "goUp $ goRight $ goLeft (tree, [])"
   ]
  },
  {
   "cell_type": "code",
   "execution_count": 22,
   "metadata": {
    "collapsed": true,
    "slideshow": {
     "slide_type": "slide"
    }
   },
   "outputs": [],
   "source": [
    "type ListZipper a = ([a],[a])\n",
    "\n",
    "goForward :: ListZipper a -> ListZipper a\n",
    "goForward (x:xs, bs) = (xs, x:bs)\n",
    "\n",
    "goBack :: ListZipper a -> ListZipper a\n",
    "goBack (xs, b:bs) = (b:xs, bs)"
   ]
  },
  {
   "cell_type": "code",
   "execution_count": null,
   "metadata": {
    "collapsed": false,
    "slideshow": {
     "slide_type": "subslide"
    }
   },
   "outputs": [],
   "source": [
    "goBack $ goForward $ goForward ([3,5..15],[])"
   ]
  }
 ],
 "metadata": {
  "celltoolbar": "Slideshow",
  "kernelspec": {
   "display_name": "Haskell",
   "language": "haskell",
   "name": "haskell"
  }
 },
 "nbformat": 4,
 "nbformat_minor": 0
}
