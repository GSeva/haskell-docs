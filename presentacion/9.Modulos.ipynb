{
 "cells": [
  {
   "cell_type": "markdown",
   "metadata": {
    "collapsed": true,
    "slideshow": {
     "slide_type": "slide"
    }
   },
   "source": [
    "#Módulos"
   ]
  },
  {
   "cell_type": "markdown",
   "metadata": {
    "slideshow": {
     "slide_type": "fragment"
    }
   },
   "source": [
    "- Son colecciones de funciones, tipos, y clases de tipos.\n",
    "- No suelen depender de otros módulos.\n",
    "- Se utilizan para dividir justamente el código (encapsulamiento), simplificando la programación."
   ]
  },
  {
   "cell_type": "markdown",
   "metadata": {
    "slideshow": {
     "slide_type": "subslide"
    }
   },
   "source": [
    "##Importando módulos"
   ]
  },
  {
   "cell_type": "markdown",
   "metadata": {
    "slideshow": {
     "slide_type": "fragment"
    }
   },
   "source": [
    "Se importan todas las funciones del módulo y pasan a estar en el espacio global."
   ]
  },
  {
   "cell_type": "markdown",
   "metadata": {
    "slideshow": {
     "slide_type": "fragment"
    }
   },
   "source": [
    "Todo el módulo:\n",
    "```haskell\n",
    "import Data.List\n",
    "```\n",
    "\n",
    "Una o más funciones del módulo:\n",
    "```haskell\n",
    "import Data.List (intercalate, sort)\n",
    "```"
   ]
  },
  {
   "cell_type": "markdown",
   "metadata": {
    "slideshow": {
     "slide_type": "subslide"
    }
   },
   "source": [
    "Todo el módulo excepto una o más funciones:\n",
    "```haskell\n",
    "import Data.List hiding (intercalate, sort)\n",
    "```\n",
    "\n",
    "Un módulo que tiene funciones con el mismo nombre que otras de otros módulos importados:\n",
    "```haskell\n",
    "import qualified Data.Map\n",
    "```\n",
    "\n",
    "Abreviando el módulo\n",
    "```haskell\n",
    "import Data.List as M\n",
    "```"
   ]
  },
  {
   "cell_type": "markdown",
   "metadata": {
    "slideshow": {
     "slide_type": "slide"
    }
   },
   "source": [
    "##Algunos módulos"
   ]
  },
  {
   "cell_type": "markdown",
   "metadata": {},
   "source": [
    "Para listas:\n",
    "```haskell\n",
    "Data.List\n",
    "```\n",
    "\n",
    "Para caracteres:\n",
    "```haskell\n",
    "Data.Char\n",
    "```"
   ]
  },
  {
   "cell_type": "markdown",
   "metadata": {
    "slideshow": {
     "slide_type": "slide"
    }
   },
   "source": [
    "Para listas de asociación: listas de duplas (\"clave\",\"valor\")\n",
    "```haskell\n",
    "Data.Map\n",
    "```\n",
    "\n",
    "Para conjuntos:\n",
    "```haskell\n",
    "Data.Set\n",
    "```"
   ]
  },
  {
   "cell_type": "markdown",
   "metadata": {
    "slideshow": {
     "slide_type": "slide"
    }
   },
   "source": [
    "##Creando módulos"
   ]
  },
  {
   "cell_type": "markdown",
   "metadata": {
    "slideshow": {
     "slide_type": "subslide"
    }
   },
   "source": [
    "Se define el módulo y dentro sus funciones (en este caso con la construcción where)"
   ]
  },
  {
   "cell_type": "code",
   "execution_count": 8,
   "metadata": {
    "collapsed": false
   },
   "outputs": [],
   "source": [
    "module Areas\n",
    "( areaCirculo\n",
    ", areaCuadrado\n",
    ", areaRectangulo\n",
    ") where\n",
    "\n",
    "areaCirculo :: Float -> Float\n",
    "areaCirculo radio = pi * (radio ^ 2)\n",
    "\n",
    "areaCuadrado :: Float -> Float\n",
    "areaCuadrado lado = lado ^ 2\n",
    "\n",
    "areaRectangulo :: Float -> Float -> Float\n",
    "areaRectangulo a b = a * b"
   ]
  },
  {
   "cell_type": "markdown",
   "metadata": {
    "slideshow": {
     "slide_type": "subslide"
    }
   },
   "source": [
    "Para impotarlo en otro lado, se hace como ya habíamos visto: "
   ]
  },
  {
   "cell_type": "code",
   "execution_count": 10,
   "metadata": {
    "collapsed": false
   },
   "outputs": [
    {
     "data": {
      "text/plain": [
       "3.1415927"
      ]
     },
     "metadata": {},
     "output_type": "display_data"
    },
    {
     "data": {
      "text/plain": [
       "4.0"
      ]
     },
     "metadata": {},
     "output_type": "display_data"
    },
    {
     "data": {
      "text/plain": [
       "3.0"
      ]
     },
     "metadata": {},
     "output_type": "display_data"
    }
   ],
   "source": [
    "import Areas\n",
    "\n",
    "areaCirculo 1.0\n",
    "areaCuadrado 2.0\n",
    "areaRectangulo 3.0 1.0"
   ]
  },
  {
   "cell_type": "markdown",
   "metadata": {},
   "source": [
    "- Areas está en el mismo directorio que donde estamos trabajando."
   ]
  }
 ],
 "metadata": {
  "celltoolbar": "Slideshow",
  "kernelspec": {
   "display_name": "Haskell",
   "language": "haskell",
   "name": "haskell"
  }
 },
 "nbformat": 4,
 "nbformat_minor": 0
}
