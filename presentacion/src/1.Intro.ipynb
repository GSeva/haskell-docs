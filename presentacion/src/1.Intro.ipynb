{
 "cells": [
  {
   "cell_type": "markdown",
   "metadata": {
    "slideshow": {
     "slide_type": "slide"
    }
   },
   "source": [
    "#Haskell"
   ]
  },
  {
   "cell_type": "markdown",
   "metadata": {
    "slideshow": {
     "slide_type": "slide"
    }
   },
   "source": [
    "## Introducción"
   ]
  },
  {
   "cell_type": "markdown",
   "metadata": {
    "slideshow": {
     "slide_type": "subslide"
    }
   },
   "source": [
    "- Diseñado por las universidades de Yale y Gasgow\n",
    "- Su nombre es en homenaje a Haskell Curry"
   ]
  },
  {
   "cell_type": "markdown",
   "metadata": {
    "slideshow": {
     "slide_type": "subslide"
    }
   },
   "source": [
    "- Buscaba reunir las características de los lenguajes funcionales hasta el momento"
   ]
  },
  {
   "cell_type": "markdown",
   "metadata": {
    "slideshow": {
     "slide_type": "-"
    }
   },
   "source": [
    "#####Principalmente del lenguaje Miranda:\n"
   ]
  },
  {
   "cell_type": "markdown",
   "metadata": {},
   "source": [
    "- Es un lenguaje orientado al uso comercial  en vez de al uso académico (uno de los objetivos principales del diseño de Miranda)\n",
    "- Lenguaje puramente funcional (se explica a continuación)\n",
    "- Evaluación perezosa. Los argumentos se pasan a las funciones sin evaluar."
   ]
  },
  {
   "cell_type": "markdown",
   "metadata": {
    "slideshow": {
     "slide_type": "subslide"
    }
   },
   "source": [
    "###Lenguaje puramente funcional"
   ]
  },
  {
   "cell_type": "markdown",
   "metadata": {
    "slideshow": {
     "slide_type": "fragment"
    }
   },
   "source": [
    "Funcional:\n",
    "   - Enfatiza la aplicación de funciones.\n",
    "   - No maneja datos mutables o de estado."
   ]
  },
  {
   "cell_type": "markdown",
   "metadata": {},
   "source": [
    "Puro (funciones puras): \n",
    "   - No hay efectos secundarios (para una misma entrada espero siempre el mismo resultado)  "
   ]
  },
  {
   "cell_type": "markdown",
   "metadata": {
    "slideshow": {
     "slide_type": "subslide"
    }
   },
   "source": [
    "Más características:"
   ]
  },
  {
   "cell_type": "markdown",
   "metadata": {
    "slideshow": {
     "slide_type": "-"
    }
   },
   "source": [
    " - Tipado fuerte (datos de tipo concreto)"
   ]
  },
  {
   "cell_type": "markdown",
   "metadata": {
    "slideshow": {
     "slide_type": "-"
    }
   },
   "source": [
    " - Tipado estático (comprobación de tipos durante la compilación)"
   ]
  },
  {
   "cell_type": "markdown",
   "metadata": {
    "slideshow": {
     "slide_type": "-"
    }
   },
   "source": [
    " - Inferencia de tipos"
   ]
  },
  {
   "cell_type": "markdown",
   "metadata": {
    "slideshow": {
     "slide_type": "-"
    }
   },
   "source": [
    " - Muy alto nivel"
   ]
  },
  {
   "cell_type": "markdown",
   "metadata": {
    "slideshow": {
     "slide_type": "subslide"
    }
   },
   "source": [
    "##Compiladores / intérpretes"
   ]
  },
  {
   "cell_type": "markdown",
   "metadata": {},
   "source": [
    "Implementación utilizada: GHC (Glasgow Haskell Compiler)\n",
    "\n",
    "- Escrito en Haskell, C y C++\n",
    "- Disponible para varias plataformas (Windows, Mac OS X, y la mayoría de los sistemas UNIX) y mayoría de arquitecturas de procesador.\n",
    "- Compila a código nativo\n",
    "- Posee un intérprete (GHCi)"
   ]
  },
  {
   "cell_type": "markdown",
   "metadata": {
    "slideshow": {
     "slide_type": "subslide"
    }
   },
   "source": [
    "- Soporta concurrencia y paralelismo.\n",
    "- Posee una gran cantidad de librerías, aunque algunas sólo funcionan bajo GHC.\n",
    "\n",
    "Otras implementaciones:\n",
    "\n",
    "- Hugs (intérprete)\n",
    "- nhc98 (compilador)\n",
    "- HBC (compilador)"
   ]
  }
 ],
 "metadata": {
  "celltoolbar": "Slideshow",
  "kernelspec": {
   "display_name": "Haskell",
   "language": "haskell",
   "name": "haskell"
  }
 },
 "nbformat": 4,
 "nbformat_minor": 0
}
