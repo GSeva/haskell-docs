{
 "cells": [
  {
   "cell_type": "markdown",
   "metadata": {
    "slideshow": {
     "slide_type": "slide"
    }
   },
   "source": [
    "\n",
    "# Funciones de orden superior "
   ]
  },
  {
   "cell_type": "markdown",
   "metadata": {
    "slideshow": {
     "slide_type": "fragment"
    }
   },
   "source": [
    "Una función de orden superior es aquella que puede tomar funciones como parámetro, o devolver una función como resultado, o ambas cosas."
   ]
  },
  {
   "cell_type": "markdown",
   "metadata": {
    "slideshow": {
     "slide_type": "slide"
    }
   },
   "source": [
    "#Funciones currificadas:"
   ]
  },
  {
   "cell_type": "markdown",
   "metadata": {
    "slideshow": {
     "slide_type": "fragment"
    }
   },
   "source": [
    "Las funciones de Haskell solo pueden tomar un parametro.\n",
    "Que pasa cuando hacemos max 4 7?"
   ]
  },
  {
   "cell_type": "code",
   "execution_count": null,
   "metadata": {
    "collapsed": false,
    "slideshow": {
     "slide_type": "subslide"
    }
   },
   "outputs": [],
   "source": [
    "max 4 7"
   ]
  },
  {
   "cell_type": "markdown",
   "metadata": {
    "slideshow": {
     "slide_type": "fragment"
    }
   },
   "source": [
    "Para ver lo que en realidad sucede haremos lo siguiente"
   ]
  },
  {
   "cell_type": "code",
   "execution_count": null,
   "metadata": {
    "collapsed": false,
    "slideshow": {
     "slide_type": "fragment"
    }
   },
   "outputs": [],
   "source": [
    "let max4 = max 4\n",
    "max4 7\n",
    "max4 1"
   ]
  },
  {
   "cell_type": "markdown",
   "metadata": {
    "slideshow": {
     "slide_type": "fragment"
    }
   },
   "source": [
    "lo que sucede es que max 4 7 debe leerse como (max 4) 7\n",
    "max recive un unico paramentro, en este caso 4 y nos da como resultado una funcion parcialmente aplicada, la cual no es mas que una variable para Haskell, esta nueva función recive un unico parametro, si este es mayor que cuatro lo devolvera, sino devolvera 4"
   ]
  },
  {
   "cell_type": "markdown",
   "metadata": {
    "slideshow": {
     "slide_type": "slide"
    }
   },
   "source": [
    "Veamos ahora cuan simple es pasar una funcion por paramentro a Haskell, para esto implementaremos la funcion map'"
   ]
  },
  {
   "cell_type": "code",
   "execution_count": null,
   "metadata": {
    "collapsed": false,
    "slideshow": {
     "slide_type": "fragment"
    }
   },
   "outputs": [],
   "source": [
    "map' :: (a->b)->[a]->[b]\n",
    "map' _ [] = []\n",
    "map' f (x:xs) = (f x):map' f xs"
   ]
  },
  {
   "cell_type": "code",
   "execution_count": null,
   "metadata": {
    "collapsed": false,
    "slideshow": {
     "slide_type": "fragment"
    }
   },
   "outputs": [],
   "source": [
    "map' (+3) [4,1 ,6]\n",
    "map' ('s':) [\"olo\",\"ol\"]\n",
    "map' (\"ya \"++) [\"voy\",\"fui\"]\n",
    "map' (++\" gol\") [\"hice un\",\"me hicieron un\"]\n",
    "map' (*2) [1,2,3]\n",
    "map' (map' (2*)) [[1,2,3],[9, 0, 54]]"
   ]
  },
  {
   "cell_type": "code",
   "execution_count": null,
   "metadata": {
    "collapsed": true,
    "slideshow": {
     "slide_type": "subslide"
    }
   },
   "outputs": [],
   "source": [
    "filter' :: (a ->Bool)->[a]->[a]\n",
    "filter' _ [] = []\n",
    "filter' p (x:xs) \n",
    "  | p x = x:filter' p xs\n",
    "  | otherwise = filter' p xs"
   ]
  },
  {
   "cell_type": "code",
   "execution_count": null,
   "metadata": {
    "collapsed": false,
    "slideshow": {
     "slide_type": "fragment"
    }
   },
   "outputs": [],
   "source": [
    "filter' (>5) [1,2,3]\n",
    "filter' (>5) [11,4,5,6,7,1,8]"
   ]
  },
  {
   "cell_type": "code",
   "execution_count": null,
   "metadata": {
    "collapsed": false,
    "slideshow": {
     "slide_type": "subslide"
    }
   },
   "outputs": [],
   "source": [
    "miQuickSort :: (a -> a -> Bool) -> [a] -> [a]\n",
    "miQuickSort _ [] = []\n",
    "miQuickSort c (x:xs) = \n",
    "  let \n",
    "      menor = (`c` x)\n",
    "      mayor = not.menor\n",
    "      menores = miQuickSort c (filter' menor xs)\n",
    "      mayores = miQuickSort c (filter' mayor xs)\n",
    "  in menores ++ [x] ++ mayores"
   ]
  },
  {
   "cell_type": "code",
   "execution_count": null,
   "metadata": {
    "collapsed": false,
    "slideshow": {
     "slide_type": "fragment"
    }
   },
   "outputs": [],
   "source": [
    "miQuickSort (<) [6,1,78,12 -12, 2, 8 ,9 ,0]\n",
    "miQuickSort (>) [6,1,78,12 -12, 2, 8 ,9 ,0]\n",
    "\n",
    "normaMenor (x,y) (z,w) = sqrt (x*x+y*y) < sqrt (z*z+w*w)\n",
    "porCoordX (x,_) (y,_) = x<y\n",
    "\n",
    "let xs = [(1,2), (2,2),(0,0), (-2,-2)]\n",
    "miQuickSort normaMenor xs\n",
    "miQuickSort porCoordX xs\n",
    "\n",
    "porLargo xs ys = length xs < length ys\n",
    "\n",
    "miQuickSort porLargo [\"Hola\",\"Pedro\",\"tengo habre\",\"Eu!\"]\n",
    "\n",
    "miQuickSort (<) (map' length [\"hola\",\"pedro\",\"tengo habre\",\"lo\"])\n"
   ]
  },
  {
   "cell_type": "code",
   "execution_count": null,
   "metadata": {
    "collapsed": false,
    "slideshow": {
     "slide_type": "slide"
    }
   },
   "outputs": [],
   "source": [
    "miQuickSort2 :: (Ord b) => (a -> b) -> [a] -> [a]\n",
    "miQuickSort2 _ [] = []\n",
    "miQuickSort2 f (x:xs) = \n",
    "  let \n",
    "      menores = miQuickSort2 f [a | a <- xs, (f a) <= (f x)]\n",
    "      mayores = miQuickSort2 f [a | a <- xs, (f a) > (f x)]\n",
    "  in menores ++ [x] ++ mayores\n",
    "\n",
    "miQuickSort2 length [\"pipo\",\"locura\",\"purrete\",\"amigo mio\", \"si\"]"
   ]
  },
  {
   "cell_type": "code",
   "execution_count": null,
   "metadata": {
    "collapsed": false,
    "slideshow": {
     "slide_type": "fragment"
    }
   },
   "outputs": [],
   "source": [
    "norma (x,y) = sqrt (x*x + y*y)\n",
    "let \n",
    "    l = [(1,2),(3,1),(5,0),(1,0),(-2,-1)]\n",
    "miQuickSort2 norma l"
   ]
  },
  {
   "cell_type": "markdown",
   "metadata": {
    "slideshow": {
     "slide_type": "slide"
    }
   },
   "source": [
    "# Funciones anónimas \\ (lambdas)\n",
    "suelen ser usadas cuando necesitamos una función una sola vez. Las creamos para pasarlas como parametros a funciones de orden superior.\n",
    "La estructura de una funcion lambda es:\n",
    "\n",
    "(\\a b -> 2a/b)\n",
    "\n",
    "Las funciones lambda son expresiones (devuelven un valor), por eso podemos pasarlas como parámetros a funciones de orden superior."
   ]
  },
  {
   "cell_type": "code",
   "execution_count": null,
   "metadata": {
    "collapsed": false,
    "slideshow": {
     "slide_type": "fragment"
    }
   },
   "outputs": [],
   "source": [
    "filter (\\(x,y)->(x + y)/2 >= 5) [(5,6), (5,4),(4,4),(8,1), (9,0),(9,2)]"
   ]
  },
  {
   "cell_type": "code",
   "execution_count": null,
   "metadata": {
    "collapsed": false,
    "slideshow": {
     "slide_type": "subslide"
    }
   },
   "outputs": [],
   "source": [
    "sumar3 x y z = x + y + z\n",
    ":t sumar3\n",
    ":t sumar3 1\n",
    ":t sumar3 1 2\n",
    ":t sumar3 1 2 3\n",
    ":t 6"
   ]
  },
  {
   "cell_type": "markdown",
   "metadata": {
    "collapsed": true,
    "slideshow": {
     "slide_type": "fragment"
    }
   },
   "source": [
    "esto es porque:"
   ]
  },
  {
   "cell_type": "code",
   "execution_count": null,
   "metadata": {
    "collapsed": false,
    "slideshow": {
     "slide_type": "fragment"
    }
   },
   "outputs": [],
   "source": [
    "sumar3'= \\x-> \\y-> \\z-> x + y + z\n",
    "sumar3' 1 2 3"
   ]
  },
  {
   "cell_type": "code",
   "execution_count": null,
   "metadata": {
    "collapsed": false,
    "slideshow": {
     "slide_type": "slide"
    }
   },
   "outputs": [],
   "source": [
    "flip' f = (\\ x y -> f y x)\n",
    "let noMayor = flip' (>)\n",
    "3 `noMayor` 4\n",
    "3 `noMayor` 1"
   ]
  },
  {
   "cell_type": "markdown",
   "metadata": {
    "slideshow": {
     "slide_type": "slide"
    }
   },
   "source": [
    "# Pliegues (folds)\n"
   ]
  },
  {
   "cell_type": "code",
   "execution_count": null,
   "metadata": {
    "collapsed": false,
    "slideshow": {
     "slide_type": "notes"
    }
   },
   "outputs": [],
   "source": [
    "Son patrones existentes para implementar iteraciones."
   ]
  },
  {
   "cell_type": "code",
   "execution_count": null,
   "metadata": {
    "collapsed": false,
    "slideshow": {
     "slide_type": "subslide"
    }
   },
   "outputs": [],
   "source": [
    "elem' :: (Eq a)=> a -> [a] -> Bool\n",
    "elem' y ys = foldl (\\acc x-> if x==y then True else acc) False ys"
   ]
  },
  {
   "cell_type": "code",
   "execution_count": null,
   "metadata": {
    "collapsed": false,
    "slideshow": {
     "slide_type": "notes"
    }
   },
   "outputs": [],
   "source": [
    "elem' 1 [1, 2, 3 ,4 ,5, 6]\n",
    "elem' 5 [1 ,2 ,3 ,4 ,5 ,6]\n",
    "elem' 9 [1 ,2 ,3, 4 ,5 ,6]\n",
    "elem' 1 []"
   ]
  },
  {
   "cell_type": "code",
   "execution_count": null,
   "metadata": {
    "collapsed": false,
    "slideshow": {
     "slide_type": "notes"
    }
   },
   "outputs": [],
   "source": [
    "foldl' :: (a->b->a)-> a->[b]->a\n",
    "foldl' _ acc [] = acc\n",
    "foldl' f acc (x:xs) = foldl' f (f acc x) xs\n",
    "\n",
    "elem' :: (Eq a)=> a -> [a] -> Bool\n",
    "elem' y ys = foldl' (\\acc x-> (x==y) || acc) False ys\n",
    "\n",
    "elem' 1 [1, 2, 3 ,4 ,5, 6]\n",
    "elem' 5 [1 ,2 ,3 ,4 ,5 ,6]\n",
    "elem' 9 [1 ,2 ,3, 4 ,5 ,6]\n",
    "elem' 1 []"
   ]
  },
  {
   "cell_type": "code",
   "execution_count": null,
   "metadata": {
    "collapsed": false,
    "slideshow": {
     "slide_type": "notes"
    }
   },
   "outputs": [],
   "source": [
    "map2 :: (a->b)->[a]->[b]\n",
    "map2 f xs = foldr (\\x acc -> f x :acc) [] xs\n",
    "\n",
    "\n",
    "map2 (>3) (take 10 [1..])"
   ]
  },
  {
   "cell_type": "code",
   "execution_count": null,
   "metadata": {
    "collapsed": false
   },
   "outputs": [],
   "source": [
    "findKey :: (Eq k)=> k->[(k,v)]->v\n",
    "findKey key xs = snd.head.filter(\\(k,v)->key==k)$ xs\n",
    "\n",
    "let agenda = [(\"pablo\",\"12345656\"),(\"juukua\",\"98765432345678\"),(\"mono\", \"0800-mono\")]\n",
    "findKey \"pablo\" agenda\n",
    "\n",
    "\n",
    "findKey' :: (Eq k)=> k->[(k,v)]->Maybe v\n",
    "findKey' _ [] = Nothing\n",
    "findKey' key ((k,v):xs) = if key == k\n",
    "                            then Just v\n",
    "                            else findKey' key xs\n",
    "\n",
    "findKey' \"pablo\" agenda\n",
    "findKey' \"rodolfo\" agenda\n",
    "\n",
    "findKey'' :: (Eq k)=> k->[(k,v)]->Maybe v\n",
    "findKey'' key xs = foldr (\\(k,v) acc ->if k==key then Just v else acc) Nothing xs\n",
    "\n",
    "findKey'' \"pablo\" agenda\n",
    "findKey'' \"rodolfo\" agenda"
   ]
  },
  {
   "cell_type": "code",
   "execution_count": 1,
   "metadata": {
    "collapsed": false
   },
   "outputs": [
    {
     "data": {
      "text/html": [
       "<style>/*\n",
       "Custom IHaskell CSS.\n",
       "*/\n",
       "\n",
       "/* Styles used for the Hoogle display in the pager */\n",
       ".hoogle-doc {\n",
       "    display: block;\n",
       "    padding-bottom: 1.3em;\n",
       "    padding-left: 0.4em;\n",
       "}\n",
       ".hoogle-code {\n",
       "    display: block;\n",
       "    font-family: monospace;\n",
       "    white-space: pre;\n",
       "}\n",
       ".hoogle-text {\n",
       "    display: block;\n",
       "}\n",
       ".hoogle-name {\n",
       "    color: green;\n",
       "    font-weight: bold;\n",
       "}\n",
       ".hoogle-head {\n",
       "    font-weight: bold;\n",
       "}\n",
       ".hoogle-sub {\n",
       "    display: block;\n",
       "    margin-left: 0.4em;\n",
       "}\n",
       ".hoogle-package {\n",
       "    font-weight: bold;\n",
       "    font-style: italic;\n",
       "}\n",
       ".hoogle-module {\n",
       "    font-weight: bold;\n",
       "}\n",
       ".hoogle-class {\n",
       "    font-weight: bold;\n",
       "}\n",
       "\n",
       "/* Styles used for basic displays */\n",
       ".get-type {\n",
       "    color: green;\n",
       "    font-weight: bold;\n",
       "    font-family: monospace;\n",
       "    display: block;\n",
       "    white-space: pre-wrap;\n",
       "}\n",
       "\n",
       ".show-type {\n",
       "    color: green;\n",
       "    font-weight: bold;\n",
       "    font-family: monospace;\n",
       "    margin-left: 1em;\n",
       "}\n",
       "\n",
       ".mono {\n",
       "    font-family: monospace;\n",
       "    display: block;\n",
       "}\n",
       "\n",
       ".err-msg {\n",
       "    color: red;\n",
       "    font-style: italic;\n",
       "    font-family: monospace;\n",
       "    white-space: pre;\n",
       "    display: block;\n",
       "}\n",
       "\n",
       "#unshowable {\n",
       "    color: red;\n",
       "    font-weight: bold;\n",
       "}\n",
       "\n",
       ".err-msg.in.collapse {\n",
       "  padding-top: 0.7em;\n",
       "}\n",
       "\n",
       "/* Code that will get highlighted before it is highlighted */\n",
       ".highlight-code {\n",
       "    white-space: pre;\n",
       "    font-family: monospace;\n",
       "}\n",
       "\n",
       "/* Hlint styles */\n",
       ".suggestion-warning { \n",
       "    font-weight: bold;\n",
       "    color: rgb(200, 130, 0);\n",
       "}\n",
       ".suggestion-error { \n",
       "    font-weight: bold;\n",
       "    color: red;\n",
       "}\n",
       ".suggestion-name {\n",
       "    font-weight: bold;\n",
       "}\n",
       "</style><span class='err-msg'>Not in scope: `agenda'</span>"
      ],
      "text/plain": [
       "Not in scope: `agenda'"
      ]
     },
     "metadata": {},
     "output_type": "display_data"
    }
   ],
   "source": [
    "import qualified Data.Map as Map\n",
    "Map.fromList agenda\n",
    "Map.fromList$ (\"pablo\",\"123456780000\"):agenda\n",
    "Map.empty\n",
    "Map.insert \"movistar\" \"altos ladris\" Map.empty"
   ]
  },
  {
   "cell_type": "code",
   "execution_count": 25,
   "metadata": {
    "collapsed": false
   },
   "outputs": [
    {
     "data": {
      "text/html": [
       "<style>/*\n",
       "Custom IHaskell CSS.\n",
       "*/\n",
       "\n",
       "/* Styles used for the Hoogle display in the pager */\n",
       ".hoogle-doc {\n",
       "    display: block;\n",
       "    padding-bottom: 1.3em;\n",
       "    padding-left: 0.4em;\n",
       "}\n",
       ".hoogle-code {\n",
       "    display: block;\n",
       "    font-family: monospace;\n",
       "    white-space: pre;\n",
       "}\n",
       ".hoogle-text {\n",
       "    display: block;\n",
       "}\n",
       ".hoogle-name {\n",
       "    color: green;\n",
       "    font-weight: bold;\n",
       "}\n",
       ".hoogle-head {\n",
       "    font-weight: bold;\n",
       "}\n",
       ".hoogle-sub {\n",
       "    display: block;\n",
       "    margin-left: 0.4em;\n",
       "}\n",
       ".hoogle-package {\n",
       "    font-weight: bold;\n",
       "    font-style: italic;\n",
       "}\n",
       ".hoogle-module {\n",
       "    font-weight: bold;\n",
       "}\n",
       ".hoogle-class {\n",
       "    font-weight: bold;\n",
       "}\n",
       "\n",
       "/* Styles used for basic displays */\n",
       ".get-type {\n",
       "    color: green;\n",
       "    font-weight: bold;\n",
       "    font-family: monospace;\n",
       "    display: block;\n",
       "    white-space: pre-wrap;\n",
       "}\n",
       "\n",
       ".show-type {\n",
       "    color: green;\n",
       "    font-weight: bold;\n",
       "    font-family: monospace;\n",
       "    margin-left: 1em;\n",
       "}\n",
       "\n",
       ".mono {\n",
       "    font-family: monospace;\n",
       "    display: block;\n",
       "}\n",
       "\n",
       ".err-msg {\n",
       "    color: red;\n",
       "    font-style: italic;\n",
       "    font-family: monospace;\n",
       "    white-space: pre;\n",
       "    display: block;\n",
       "}\n",
       "\n",
       "#unshowable {\n",
       "    color: red;\n",
       "    font-weight: bold;\n",
       "}\n",
       "\n",
       ".err-msg.in.collapse {\n",
       "  padding-top: 0.7em;\n",
       "}\n",
       "\n",
       "/* Code that will get highlighted before it is highlighted */\n",
       ".highlight-code {\n",
       "    white-space: pre;\n",
       "    font-family: monospace;\n",
       "}\n",
       "\n",
       "/* Hlint styles */\n",
       ".suggestion-warning { \n",
       "    font-weight: bold;\n",
       "    color: rgb(200, 130, 0);\n",
       "}\n",
       ".suggestion-error { \n",
       "    font-weight: bold;\n",
       "    color: red;\n",
       "}\n",
       ".suggestion-name {\n",
       "    font-weight: bold;\n",
       "}\n",
       "</style> <div class=\"suggestion-name\" style=\"clear:both;\">Eta reduce</div>  <div class=\"suggestion-row\" style=\"float: left;\"> <div class=\"suggestion-error\">Found:</div>  <div class=\"highlight-code\" id=\"haskell\">multiplicarPor x = (*) x</div> </div>  <div class=\"suggestion-row\" style=\"float: left;\"> <div class=\"suggestion-error\">Why Not:</div>  <div class=\"highlight-code\" id=\"haskell\">multiplicarPor = (*)</div> </div> "
      ],
      "text/plain": [
       "Line 1: Eta reduce\n",
       "Found:\n",
       "multiplicarPor x = (*) x\n",
       "Why not:\n",
       "multiplicarPor = (*)"
      ]
     },
     "metadata": {},
     "output_type": "display_data"
    },
    {
     "data": {
      "text/html": [
       "<style>/*\n",
       "Custom IHaskell CSS.\n",
       "*/\n",
       "\n",
       "/* Styles used for the Hoogle display in the pager */\n",
       ".hoogle-doc {\n",
       "    display: block;\n",
       "    padding-bottom: 1.3em;\n",
       "    padding-left: 0.4em;\n",
       "}\n",
       ".hoogle-code {\n",
       "    display: block;\n",
       "    font-family: monospace;\n",
       "    white-space: pre;\n",
       "}\n",
       ".hoogle-text {\n",
       "    display: block;\n",
       "}\n",
       ".hoogle-name {\n",
       "    color: green;\n",
       "    font-weight: bold;\n",
       "}\n",
       ".hoogle-head {\n",
       "    font-weight: bold;\n",
       "}\n",
       ".hoogle-sub {\n",
       "    display: block;\n",
       "    margin-left: 0.4em;\n",
       "}\n",
       ".hoogle-package {\n",
       "    font-weight: bold;\n",
       "    font-style: italic;\n",
       "}\n",
       ".hoogle-module {\n",
       "    font-weight: bold;\n",
       "}\n",
       ".hoogle-class {\n",
       "    font-weight: bold;\n",
       "}\n",
       "\n",
       "/* Styles used for basic displays */\n",
       ".get-type {\n",
       "    color: green;\n",
       "    font-weight: bold;\n",
       "    font-family: monospace;\n",
       "    display: block;\n",
       "    white-space: pre-wrap;\n",
       "}\n",
       "\n",
       ".show-type {\n",
       "    color: green;\n",
       "    font-weight: bold;\n",
       "    font-family: monospace;\n",
       "    margin-left: 1em;\n",
       "}\n",
       "\n",
       ".mono {\n",
       "    font-family: monospace;\n",
       "    display: block;\n",
       "}\n",
       "\n",
       ".err-msg {\n",
       "    color: red;\n",
       "    font-style: italic;\n",
       "    font-family: monospace;\n",
       "    white-space: pre;\n",
       "    display: block;\n",
       "}\n",
       "\n",
       "#unshowable {\n",
       "    color: red;\n",
       "    font-weight: bold;\n",
       "}\n",
       "\n",
       ".err-msg.in.collapse {\n",
       "  padding-top: 0.7em;\n",
       "}\n",
       "\n",
       "/* Code that will get highlighted before it is highlighted */\n",
       ".highlight-code {\n",
       "    white-space: pre;\n",
       "    font-family: monospace;\n",
       "}\n",
       "\n",
       "/* Hlint styles */\n",
       ".suggestion-warning { \n",
       "    font-weight: bold;\n",
       "    color: rgb(200, 130, 0);\n",
       "}\n",
       ".suggestion-error { \n",
       "    font-weight: bold;\n",
       "    color: red;\n",
       "}\n",
       ".suggestion-name {\n",
       "    font-weight: bold;\n",
       "}\n",
       "</style><span class='get-type'>multiplicarPor :: forall a. Num a => a -> a -> a</span>"
      ],
      "text/plain": [
       "multiplicarPor :: forall a. Num a => a -> a -> a"
      ]
     },
     "metadata": {},
     "output_type": "display_data"
    }
   ],
   "source": [
    "multiplicarPor x = (*) x \n",
    "\n",
    ":t multiplicarPor"
   ]
  }
 ],
 "metadata": {
  "celltoolbar": "Slideshow",
  "kernelspec": {
   "display_name": "Haskell",
   "language": "haskell",
   "name": "haskell"
  }
 },
 "nbformat": 4,
 "nbformat_minor": 0
}
